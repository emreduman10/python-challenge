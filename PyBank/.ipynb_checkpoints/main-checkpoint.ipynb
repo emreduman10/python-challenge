{
 "cells": [
  {
   "cell_type": "code",
   "execution_count": 66,
   "id": "8f8860ea-63c5-4bae-8a6e-45936379e45a",
   "metadata": {},
   "outputs": [],
   "source": [
    "## importing CSV file\n",
    "\n",
    "from pathlib import Path\n",
    "import csv\n",
    "\n",
    "# setting file path to open\n",
    "csvpath = Path(\"/Users/emreduman/desktop/python-homework/budget_data.csv\")\n",
    "\n"
   ]
  },
  {
   "cell_type": "code",
   "execution_count": 71,
   "id": "49fe3e14-af2b-43af-bd81-3f2acb8f3b49",
   "metadata": {},
   "outputs": [],
   "source": [
    "## initializing variables and lists\n",
    "\n",
    "num_months = 0\n",
    "max_profit = 0\n",
    "min_proft = 0\n",
    "total_profitloss = 0\n",
    "net_profitloss = []\n",
    "dates = []"
   ]
  },
  {
   "cell_type": "code",
   "execution_count": 73,
   "id": "83e2be97-bba6-4053-b5c8-c018f7cdef8f",
   "metadata": {},
   "outputs": [],
   "source": [
    "## open file path\n",
    "with open(csvpath, 'r') as csvfile:\n",
    "    csvreader = csv.reader(csvfile, delimiter =',')\n",
    "    header = next(csvreader)\n",
    "\n",
    "## calculate number of months and total PL, create lists \n",
    "    for row in csvreader:\n",
    "        num_months += 1\n",
    "        total_profitloss += int(row[1])\n",
    "        net_profitloss.append(int(row[1]))\n",
    "        dates.append(row[0])\n",
    "        "
   ]
  },
  {
   "cell_type": "code",
   "execution_count": null,
   "id": "e16b6b7c-23d0-48a7-8a9a-549b05740f13",
   "metadata": {},
   "outputs": [],
   "source": []
  }
 ],
 "metadata": {
  "kernelspec": {
   "display_name": "Python 3 (ipykernel)",
   "language": "python",
   "name": "python3"
  },
  "language_info": {
   "codemirror_mode": {
    "name": "ipython",
    "version": 3
   },
   "file_extension": ".py",
   "mimetype": "text/x-python",
   "name": "python",
   "nbconvert_exporter": "python",
   "pygments_lexer": "ipython3",
   "version": "3.7.13"
  }
 },
 "nbformat": 4,
 "nbformat_minor": 5
}
