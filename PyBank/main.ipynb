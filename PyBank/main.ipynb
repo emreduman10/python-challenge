{
 "cells": [
  {
   "cell_type": "code",
   "execution_count": 66,
   "id": "8f8860ea-63c5-4bae-8a6e-45936379e45a",
   "metadata": {},
   "outputs": [],
   "source": [
    "## importing CSV file\n",
    "\n",
    "from pathlib import Path\n",
    "import csv\n",
    "\n",
    "# setting file path to open\n",
    "csvpath = Path(\"/Users/emreduman/desktop/python-homework/budget_data.csv\")\n",
    "\n"
   ]
  },
  {
   "cell_type": "code",
   "execution_count": 133,
   "id": "49fe3e14-af2b-43af-bd81-3f2acb8f3b49",
   "metadata": {},
   "outputs": [],
   "source": [
    "## initializing variables and lists\n",
    "\n",
    "num_months = 0\n",
    "max_profit = 0\n",
    "min_profit = 0\n",
    "total_profitloss = 0\n",
    "profitloss_list = []\n",
    "dates = []"
   ]
  },
  {
   "cell_type": "code",
   "execution_count": 134,
   "id": "83e2be97-bba6-4053-b5c8-c018f7cdef8f",
   "metadata": {},
   "outputs": [],
   "source": [
    "## open file path\n",
    "with open(csvpath, 'r') as csvfile:\n",
    "    csvreader = csv.reader(csvfile, delimiter =',')\n",
    "    header = next(csvreader)\n",
    "\n",
    "## calculate number of months and total PL, create lists \n",
    "    for row in csvreader:\n",
    "        num_months += 1\n",
    "        profitloss_list.append(int(row[1]))\n",
    "        total_profitloss += int(row[1])\n",
    "        dates.append(row[0])\n",
    "        "
   ]
  },
  {
   "cell_type": "code",
   "execution_count": 135,
   "id": "e16b6b7c-23d0-48a7-8a9a-549b05740f13",
   "metadata": {},
   "outputs": [],
   "source": [
    "## Set up formula to calculate change in Profit and Loss\n",
    "\n",
    "change_pl = []\n",
    "\n",
    "for i in range(1, len(profitloss_list)):\n",
    "    x = profitloss_list[i] - profitloss_list[i - 1]\n",
    "    change_pl.append(int(x))"
   ]
  },
  {
   "cell_type": "code",
   "execution_count": 136,
   "id": "6d453b4d-4d73-4589-9fc3-a0ea17b84804",
   "metadata": {},
   "outputs": [],
   "source": [
    "## Set up formula to calculate average change in Profit and Loss\n",
    "\n",
    "sum = 0\n",
    "\n",
    "for i in range(0, len(change_pl)):\n",
    "    sum += change_pl[i]\n",
    "    avg_change_pl = round((sum / (len(change_pl))),2)"
   ]
  },
  {
   "cell_type": "code",
   "execution_count": 142,
   "id": "84870669-0895-4cd3-8634-25544f3b77e3",
   "metadata": {},
   "outputs": [],
   "source": [
    "## Identify months with max profit and min profit (biggest loss)\n",
    "\n",
    "for pl in profitloss_list:\n",
    "    \n",
    "    if min_profit == 0:\n",
    "        max_profit == pl\n",
    "        min_profit == pl\n",
    "    if pl > max_profit:\n",
    "        max_profit = pl\n",
    "    elif pl < min_profit:\n",
    "        min_profit = pl"
   ]
  },
  {
   "cell_type": "code",
   "execution_count": null,
   "id": "0fe39f7d-fec6-4d6f-b20d-5b9407238d6a",
   "metadata": {},
   "outputs": [
    {
     "name": "stdout",
     "output_type": "stream",
     "text": [
      "1170593 -1196225\n"
     ]
    }
   ],
   "source": [
    "print(max_profit, min_profit)"
   ]
  },
  {
   "cell_type": "code",
   "execution_count": 152,
   "id": "a64cb0ce-c8ef-45dd-8473-16194e90aed3",
   "metadata": {},
   "outputs": [],
   "source": [
    "max_profit_date = dates[max_profit]\n",
    "min_profit_date = dates[min_profit]"
   ]
  },
  {
   "cell_type": "code",
   "execution_count": 154,
   "id": "002975bc-be6e-4bcd-aff0-290ccf326b86",
   "metadata": {},
   "outputs": [
    {
     "name": "stdout",
     "output_type": "stream",
     "text": [
      "Feb-2012\n",
      "Sep-2013\n"
     ]
    }
   ],
   "source": [
    "print(max_profit_date)\n",
    "print(min_profit_date)"
   ]
  },
  {
   "cell_type": "code",
   "execution_count": null,
   "id": "29f79642-d52b-4d05-ba4a-d207ac459ba3",
   "metadata": {},
   "outputs": [],
   "source": []
  }
 ],
 "metadata": {
  "kernelspec": {
   "display_name": "Python 3 (ipykernel)",
   "language": "python",
   "name": "python3"
  },
  "language_info": {
   "codemirror_mode": {
    "name": "ipython",
    "version": 3
   },
   "file_extension": ".py",
   "mimetype": "text/x-python",
   "name": "python",
   "nbconvert_exporter": "python",
   "pygments_lexer": "ipython3",
   "version": "3.7.13"
  }
 },
 "nbformat": 4,
 "nbformat_minor": 5
}
