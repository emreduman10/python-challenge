{
 "cells": [
  {
   "cell_type": "code",
   "execution_count": 6,
   "id": "8f8860ea-63c5-4bae-8a6e-45936379e45a",
   "metadata": {},
   "outputs": [],
   "source": [
    "## importing CSV file\n",
    "\n",
    "from pathlib import Path\n",
    "filepath = Path(\"/Users/emreduman/desktop/python-challenge/budget_data.csv\")\n",
    "with open(filepath, 'r') as file:\n",
    "    text = file.read()"
   ]
  },
  {
   "cell_type": "code",
   "execution_count": null,
   "id": "5121ed2f-625d-4167-8f02-a5a5688004a1",
   "metadata": {},
   "outputs": [],
   "source": []
  }
 ],
 "metadata": {
  "kernelspec": {
   "display_name": "Python 3 (ipykernel)",
   "language": "python",
   "name": "python3"
  },
  "language_info": {
   "codemirror_mode": {
    "name": "ipython",
    "version": 3
   },
   "file_extension": ".py",
   "mimetype": "text/x-python",
   "name": "python",
   "nbconvert_exporter": "python",
   "pygments_lexer": "ipython3",
   "version": "3.7.13"
  }
 },
 "nbformat": 4,
 "nbformat_minor": 5
}
